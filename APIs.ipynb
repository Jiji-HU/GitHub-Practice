{
 "cells": [
  {
   "cell_type": "code",
   "execution_count": null,
   "metadata": {},
   "outputs": [],
   "source": [
    "import pandas as pd\n",
    "import matplotlib as plt\n",
    "\n",
    "# Load the data into a pandas DataFrame\n",
    "df = pd.read_csv('world_population_dataset/world_population.csv')\n",
    "\n",
    "df"
   ]
  },
  {
   "cell_type": "code",
   "execution_count": null,
   "metadata": {},
   "outputs": [],
   "source": [
    "# Melt the DataFrame to combine the year columns into one \"Year\" column\n",
    "melted_df = pd.melt(df, id_vars=['Rank', 'CCA3', 'Country/Territory', 'Capital', 'Continent', \n",
    "                                 'Area (km²)', 'Density (per km²)', 'Growth Rate', \n",
    "                                 'World Population Percentage'], \n",
    "                    var_name='Year', value_name='Population')\n",
    "melted_df"
   ]
  },
  {
   "cell_type": "code",
   "execution_count": null,
   "metadata": {},
   "outputs": [],
   "source": [
    "# Remove 'Population' from the 'Year' column values\n",
    "melted_df['Year'] = melted_df['Year'].str.replace(' Population', '')"
   ]
  },
  {
   "cell_type": "code",
   "execution_count": null,
   "metadata": {},
   "outputs": [],
   "source": [
    "melted_df.head()"
   ]
  },
  {
   "cell_type": "code",
   "execution_count": null,
   "metadata": {},
   "outputs": [],
   "source": [
    "# Filter the DataFrame to include only the desired countries\n",
    "countries_of_interest = ['Japan', 'China', 'United States', 'Germany', 'Nigeria']\n",
    "df_filtered = melted_df[melted_df['Country/Territory'].isin(countries_of_interest)]"
   ]
  },
  {
   "cell_type": "code",
   "execution_count": null,
   "metadata": {},
   "outputs": [],
   "source": [
    "#matplotlib.pyplot をインポートしてから plt.title() を使用する\n",
    "import matplotlib.pyplot as plt\n",
    "\n",
    "# Pivot the DataFrame to have years as columns and countries as rows\n",
    "pivot_df = df_filtered.pivot(index='Year', columns='Country/Territory', values='Population')\n",
    "\n",
    "# Plot the data\n",
    "pivot_df.plot(kind='line', marker='o', figsize=(12, 8))\n",
    "\n",
    "# Add labels and title\n",
    "plt.title('Population of Countries Over the Years')\n",
    "plt.xlabel('Year')\n",
    "plt.ylabel('Population')\n",
    "plt.grid(True)\n",
    "plt.xticks(rotation=45)\n",
    "plt.legend(title='Country/Territory')\n",
    "plt.tight_layout()\n",
    "plt.show()"
   ]
  },
  {
   "cell_type": "code",
   "execution_count": null,
   "metadata": {},
   "outputs": [],
   "source": []
  },
  {
   "cell_type": "code",
   "execution_count": null,
   "metadata": {},
   "outputs": [],
   "source": []
  }
 ],
 "metadata": {
  "kernelspec": {
   "display_name": "base",
   "language": "python",
   "name": "python3"
  },
  "language_info": {
   "codemirror_mode": {
    "name": "ipython",
    "version": 3
   },
   "file_extension": ".py",
   "mimetype": "text/x-python",
   "name": "python",
   "nbconvert_exporter": "python",
   "pygments_lexer": "ipython3",
   "version": "3.10.10"
  }
 },
 "nbformat": 4,
 "nbformat_minor": 2
}
